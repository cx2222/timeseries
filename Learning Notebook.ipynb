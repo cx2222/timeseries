{
 "cells": [
  {
   "cell_type": "markdown",
   "metadata": {},
   "source": [
    "# This is a Jupyter Notebook for Learning How to Use Jupyter Notebook"
   ]
  },
  {
   "cell_type": "markdown",
   "metadata": {},
   "source": [
    "To help you those of you who are not familiar with Python, I will try to write this document as clearly as possible and for people who are not extremely comfortable with computers (I am one of these people, but have had a lot of experience so have learned my way around).  I know that some of what I am writing here is not entirely technically correct, but it is for the purposes of teaching people who are not comfortable with the lingo.  So if you find a \"mistake\" in notation, it is likely there on purpose to avoid unnecesary confusion -- but of course let me know if you think there is a substantive one. \n",
    "\n",
    "Jupyter Notebook is a software that allows us to both write python code and write text in one document.  This looks nice, right? \n",
    "\n",
    "Jupyter Notebook uses python, so we need to download both. The easiest way to do this is the download Anaconda. Anaconda includes python and Jupyter Notebook, so you are all ready to use Jupyter Notebook after you have downloaded Anaconda. Download anaconda here: https://www.anaconda.com/distribution/. Choose the python 3.7 version that is correct for your computer (i.e. Windows, Mac, or Linux).\n",
    "\n",
    "Once this is downloaded, you can open Jupyter Notebook just as you do any other application.  This should open a page in your internet browser that looks like this: "
   ]
  },
  {
   "cell_type": "markdown",
   "metadata": {},
   "source": [
    "![title](img/example.png)"
   ]
  },
  {
   "cell_type": "markdown",
   "metadata": {},
   "source": [
    "Click on New > Python 3 to start a notebook. Click on the document title (Untitled) to change the name of the notebook.\n",
    "\n",
    "The structure of a notebook is as follows: Everything you write goes into \"cells\".  Think of a cell as a paragraph.  The cell can be one of the following types: \n",
    "\n",
    "1. A Heading cell (i.e. Title, subtitle, subsubtitle)\n",
    "2. A Markdown cell (normal text, images, latex equations, etc) \n",
    "3. A Code cell (Python Code)\n",
    "\n",
    "There are two modes in Jupyter Notebook:\n",
    "1. Edit Mode: You are inside a cell and editing what that cell says. \n",
    "2. Command Mode: You are moving around from cell to cell, moving cells, adding new cells, etc. \n",
    "To go from Edit mode to Command mode, hit ESC\n",
    "To go from Command mode to Edit mode, hit Enter\n",
    "\n",
    "When in command mode, you can do lots of thing:\n",
    "* to made a new cell below, hit b\n",
    "* to move from cell to cell, use arrows\n",
    "* to run the code in the highlighted code cell, hit CTRL + ENTER\n",
    "* to make text in the highlighted markdown cell look nice, hit CTRL + ENTER\n",
    "* to make a cell a heading cell, hit 1, 2, 3, or 4... (1 is title, 2 is subtitle, 3 is subsubtitle...)\n",
    "* to make a cell a markdowm cell, hit m\n",
    "* to make a cell a code cell, hit y\n",
    "* to see other thing you can do, hit h (for help). \n",
    "\n",
    "While editing a markdown cell, you can change how a line looks: \n",
    "* putting a * in front of a line makes it a bullet\n",
    "* putting a # in from of a line makes it a title\n",
    "* you can put latex code inside two dollar signs to make equations "
   ]
  },
  {
   "cell_type": "markdown",
   "metadata": {},
   "source": [
    "## Intro to Python"
   ]
  },
  {
   "cell_type": "markdown",
   "metadata": {},
   "source": [
    "In code cells, we can run python code. These are the basics of python: \n",
    "We assign values to an object by using =\n",
    "Use print() to observe what the object represents. "
   ]
  },
  {
   "cell_type": "code",
   "execution_count": 1,
   "metadata": {},
   "outputs": [
    {
     "name": "stdout",
     "output_type": "stream",
     "text": [
      "2\n"
     ]
    }
   ],
   "source": [
    "x = 2\n",
    "print(x)"
   ]
  },
  {
   "cell_type": "markdown",
   "metadata": {},
   "source": [
    "We can use python as a calculator using math symbols: (** denotes an exponent)"
   ]
  },
  {
   "cell_type": "code",
   "execution_count": 2,
   "metadata": {
    "scrolled": true
   },
   "outputs": [
    {
     "data": {
      "text/plain": [
       "5"
      ]
     },
     "execution_count": 2,
     "metadata": {},
     "output_type": "execute_result"
    }
   ],
   "source": [
    "(x ** 2 ) + 1"
   ]
  },
  {
   "cell_type": "markdown",
   "metadata": {},
   "source": [
    "We can use python to generate matrix-like objects called arrays by using the notation [element 1, element 2, ...] "
   ]
  },
  {
   "cell_type": "code",
   "execution_count": 3,
   "metadata": {},
   "outputs": [
    {
     "name": "stdout",
     "output_type": "stream",
     "text": [
      "[1, 3, 6, 9]\n"
     ]
    }
   ],
   "source": [
    "vector = [1, 3, 6, 9]\n",
    "print(vector)"
   ]
  },
  {
   "cell_type": "code",
   "execution_count": 4,
   "metadata": {},
   "outputs": [
    {
     "name": "stdout",
     "output_type": "stream",
     "text": [
      "[[1, 3], [6, 9]]\n"
     ]
    }
   ],
   "source": [
    "matrix = [ [1, 3],  [6, 9]]\n",
    "print(matrix)"
   ]
  },
  {
   "cell_type": "markdown",
   "metadata": {},
   "source": [
    "We can call specific values using different notation: \n",
    "vector[0] is the first element of vector\n",
    "vector[1:3] is the second and third (start at 1 stop before 3) elements of the vector\n",
    "vector[:] is all elements of the vector. "
   ]
  },
  {
   "cell_type": "code",
   "execution_count": 5,
   "metadata": {},
   "outputs": [
    {
     "name": "stdout",
     "output_type": "stream",
     "text": [
      "1\n",
      "[3, 6]\n",
      "[1, 3, 6, 9]\n"
     ]
    }
   ],
   "source": [
    "print(vector[0])\n",
    "print(vector[1:3])\n",
    "print(vector[:])"
   ]
  },
  {
   "cell_type": "markdown",
   "metadata": {},
   "source": [
    "Most functions we want to use do not come with the standard version of python.  For example, we cant even take a mean!"
   ]
  },
  {
   "cell_type": "code",
   "execution_count": 6,
   "metadata": {},
   "outputs": [
    {
     "ename": "NameError",
     "evalue": "name 'mean' is not defined",
     "output_type": "error",
     "traceback": [
      "\u001b[1;31m---------------------------------------------------------------------------\u001b[0m",
      "\u001b[1;31mNameError\u001b[0m                                 Traceback (most recent call last)",
      "\u001b[1;32m<ipython-input-6-14ddc2493bef>\u001b[0m in \u001b[0;36m<module>\u001b[1;34m\u001b[0m\n\u001b[1;32m----> 1\u001b[1;33m \u001b[0mmean\u001b[0m\u001b[1;33m(\u001b[0m\u001b[0mvector\u001b[0m\u001b[1;33m)\u001b[0m\u001b[1;33m\u001b[0m\u001b[1;33m\u001b[0m\u001b[0m\n\u001b[0m",
      "\u001b[1;31mNameError\u001b[0m: name 'mean' is not defined"
     ]
    }
   ],
   "source": [
    "mean(vector)"
   ]
  },
  {
   "cell_type": "markdown",
   "metadata": {},
   "source": [
    "So, we have to upload alot of functions from external sets of functions called modules.  For example, a lot of math functions are in the statistics module.  To load all the functions in the statistics module, we use import statistics, name it as stats, then use stats.mean.  Alternatively, we could import only the function mean from stats and use the function mean: "
   ]
  },
  {
   "cell_type": "code",
   "execution_count": 7,
   "metadata": {},
   "outputs": [
    {
     "data": {
      "text/plain": [
       "4.75"
      ]
     },
     "execution_count": 7,
     "metadata": {},
     "output_type": "execute_result"
    }
   ],
   "source": [
    "import statistics as stats\n",
    "stats.mean(vector)"
   ]
  },
  {
   "cell_type": "code",
   "execution_count": 8,
   "metadata": {},
   "outputs": [
    {
     "data": {
      "text/plain": [
       "4.75"
      ]
     },
     "execution_count": 8,
     "metadata": {},
     "output_type": "execute_result"
    }
   ],
   "source": [
    "from statistics import mean \n",
    "mean(vector)"
   ]
  },
  {
   "cell_type": "markdown",
   "metadata": {},
   "source": [
    "Modules can be saved within modules (they are then called toolkits), which is why we sometimes import modules named things like statsmodels.graphics.tsaplots"
   ]
  },
  {
   "cell_type": "markdown",
   "metadata": {},
   "source": [
    "Some modules cannot be imported yet, since you have not downloaded them to your computer yet. In this case you will get a \"ModelNotFoundError\".  To download the module to remove this error, use: !pip install modulename.  For example: \n",
    "!pip install pysal"
   ]
  }
 ],
 "metadata": {
  "kernelspec": {
   "display_name": "Python 3",
   "language": "python",
   "name": "python3"
  },
  "language_info": {
   "codemirror_mode": {
    "name": "ipython",
    "version": 3
   },
   "file_extension": ".py",
   "mimetype": "text/x-python",
   "name": "python",
   "nbconvert_exporter": "python",
   "pygments_lexer": "ipython3",
   "version": "3.7.1"
  }
 },
 "nbformat": 4,
 "nbformat_minor": 2
}
